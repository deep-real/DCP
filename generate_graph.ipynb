{
 "cells": [
  {
   "cell_type": "code",
   "execution_count": 1,
   "metadata": {},
   "outputs": [],
   "source": [
    "import os\n",
    "from openai import OpenAI\n",
    "\n",
    "from descriptor_strings import stringtolist\n",
    "import json\n",
    "import itertools\n",
    "from tqdm import tqdm"
   ]
  },
  {
   "cell_type": "code",
   "execution_count": 2,
   "metadata": {},
   "outputs": [],
   "source": [
    "os.environ[\"OPENAI_API_KEY\"] = \"Your-OpenAI-API-KEY\""
   ]
  },
  {
   "cell_type": "code",
   "execution_count": 3,
   "metadata": {},
   "outputs": [],
   "source": [
    "client = OpenAI()"
   ]
  },
  {
   "cell_type": "code",
   "execution_count": 4,
   "metadata": {},
   "outputs": [],
   "source": [
    "def generate_prompt(category_name: str):\n",
    "    json_part = \"\"\"\n",
    "    graph = {\n",
    "      \"nodes\": [\n",
    "        {\"id\": \"American Robin\", \"label\": \"American Robin\"},\n",
    "        {\"id\": \"Breast\", \"label\": \"Breast\"},\n",
    "        {\"id\": \"Tail\", \"label\": \"Tail\"},\n",
    "        {\"id\": \"Beak\", \"label\": \"Beak\"},\n",
    "        {\"id\": \"Eyes\", \"label\": \"Eyes\"},\n",
    "        {\"id\": \"Legs\", \"label\": \"Legs\"},\n",
    "        {\"id\": \"Red\", \"label\": \"Red\"},\n",
    "        {\"id\": \"Gray\", \"label\": \"Gray\"},\n",
    "        {\"id\": \"Yellow\", \"label\": \"Yellow\"},\n",
    "        {\"id\": \"Round\", \"label\": \"Round\"},\n",
    "        {\"id\": \"Thin\", \"label\": \"Thin\"}\n",
    "      ],\n",
    "      \"edges\": [\n",
    "        {\"source\": \"American Robin\", \"target\": \"Breast\", \"relation\": \"has\"},\n",
    "        {\"source\": \"American Robin\", \"target\": \"Tail\", \"relation\": \"has\"},\n",
    "        {\"source\": \"American Robin\", \"target\": \"Beak\", \"relation\": \"has\"},\n",
    "        {\"source\": \"American Robin\", \"target\": \"Eyes\", \"relation\": \"has\"},\n",
    "        {\"source\": \"American Robin\", \"target\": \"Legs\", \"relation\": \"has\"},\n",
    "        {\"source\": \"Breast\", \"target\": \"Red\", \"relation\": \"is\"},\n",
    "        {\"source\": \"Tail\", \"target\": \"Gray\", \"relation\": \"is\"},\n",
    "        {\"source\": \"Beak\", \"target\": \"Yellow\", \"relation\": \"is\"},\n",
    "        {\"source\": \"Eyes\", \"target\": \"Round\", \"relation\": \"are\"},\n",
    "        {\"source\": \"Legs\", \"target\": \"Thin\", \"relation\": \"are\"}\n",
    "      ]\n",
    "    }\n",
    "\n",
    "    graph = {\n",
    "      \"nodes\": [\n",
    "        {\"id\": \"Airliner\", \"label\": \"Airliner\"},\n",
    "        {\"id\": \"Wings\", \"label\": \"Wings\"},\n",
    "        {\"id\": \"Tail\", \"label\": \"Tail\"},\n",
    "        {\"id\": \"Fuselage\", \"label\": \"Fuselage\"},\n",
    "        {\"id\": \"Engines\", \"label\": \"Engines\"},\n",
    "        {\"id\": \"Windows\", \"label\": \"Windows\"},\n",
    "        {\"id\": \"Swept-back\", \"label\": \"Swept-back\"},\n",
    "        {\"id\": \"Vertical\", \"label\": \"Vertical\"},\n",
    "        {\"id\": \"Long\", \"label\": \"Long\"},\n",
    "        {\"id\": \"Multiple\", \"label\": \"Multiple\"},\n",
    "        {\"id\": \"Rectangular\", \"label\": \"Rectangular\"}\n",
    "      ],\n",
    "      \"edges\": [\n",
    "        {\"source\": \"Airliner\", \"target\": \"Wings\", \"relation\": \"has\"},\n",
    "        {\"source\": \"Airliner\", \"target\": \"Tail\", \"relation\": \"has\"},\n",
    "        {\"source\": \"Airliner\", \"target\": \"Fuselage\", \"relation\": \"has\"},\n",
    "        {\"source\": \"Airliner\", \"target\": \"Engines\", \"relation\": \"has\"},\n",
    "        {\"source\": \"Airliner\", \"target\": \"Windows\", \"relation\": \"has\"},\n",
    "        {\"source\": \"Wings\", \"target\": \"Swept-back\", \"relation\": \"are\"},\n",
    "        {\"source\": \"Tail\", \"target\": \"Vertical\", \"relation\": \"is\"},\n",
    "        {\"source\": \"Fuselage\", \"target\": \"Long\", \"relation\": \"is\"},\n",
    "        {\"source\": \"Engines\", \"target\": \"Multiple\", \"relation\": \"are\"},\n",
    "        {\"source\": \"Windows\", \"target\": \"Rectangular\", \"relation\": \"are\"}\n",
    "      ]\n",
    "    }\n",
    "    \"\"\"\n",
    "    prompt = f\"What are useful visual concepts for distinguishing a {category_name} in a photo? These features should be visually distinctable and have limited overlap with each other. These features should include attributes and their relations. For each item, you should be concise and precise, and use no more than five words. No ambiguous answers. Show your answer using a graph structure in JSON format strictly following the examples shown above. Only contains two depths of nodes (depth 1: attributes, depth 2: subattributes). The knowledge graph should only contain 5 attributes and each attribute only has one sub attribute. No other explanations, only provide the graph.\"\n",
    "    return json_part + prompt"
   ]
  },
  {
   "cell_type": "code",
   "execution_count": 5,
   "metadata": {},
   "outputs": [],
   "source": [
    "with open('/usa/tangli/Projects/concept_exp/descriptors/descriptors_imagenet.json', 'r') as file:\n",
    "    data = json.load(file)\n",
    "class_list = list(data.keys())"
   ]
  },
  {
   "cell_type": "code",
   "execution_count": null,
   "metadata": {},
   "outputs": [],
   "source": [
    "len(class_list)"
   ]
  },
  {
   "cell_type": "code",
   "execution_count": 7,
   "metadata": {},
   "outputs": [],
   "source": [
    "# generator \n",
    "def partition(lst, size):\n",
    "    for i in range(0, len(lst), size):\n",
    "        yield list(itertools.islice(lst, i, i + size))"
   ]
  },
  {
   "cell_type": "code",
   "execution_count": 8,
   "metadata": {},
   "outputs": [],
   "source": [
    "prompts = [generate_prompt(category.replace('_', ' ')) for category in class_list]"
   ]
  },
  {
   "cell_type": "code",
   "execution_count": null,
   "metadata": {},
   "outputs": [],
   "source": [
    "responses = [client.chat.completions.create(\n",
    "  model=\"gpt-4o\",\n",
    "  messages=[\n",
    "    {\"role\": \"system\", \"content\": \"You are a helpful assistant.\"},\n",
    "    {\"role\": \"user\", \"content\": f\"{prompt}\"}\n",
    "  ]\n",
    ") for prompt in tqdm(prompts)]"
   ]
  },
  {
   "cell_type": "code",
   "execution_count": 12,
   "metadata": {},
   "outputs": [],
   "source": [
    "response_texts = [responses[i].choices[0].message.content for i in range(len(responses))]"
   ]
  },
  {
   "cell_type": "code",
   "execution_count": 13,
   "metadata": {},
   "outputs": [],
   "source": [
    "json_data = [response_texts[i].strip().strip('`').strip('json\\n').strip('/ graph').strip() for i in range(len(response_texts))]"
   ]
  },
  {
   "cell_type": "code",
   "execution_count": null,
   "metadata": {},
   "outputs": [],
   "source": [
    "json_objects = []\n",
    "for i in tqdm(range(len(json_data))):\n",
    "    requery_needed = True\n",
    "    data = json_data[i]\n",
    "    \n",
    "    while requery_needed:\n",
    "        try:\n",
    "            # Attempt to parse the JSON string\n",
    "            parsed_data = json.loads(data)\n",
    "        except json.JSONDecodeError as e:\n",
    "            # This block will run if a JSONDecodeError occurs\n",
    "            print(f\"Error parsing JSON: {e}\")\n",
    "            print(\"Try a new response\")\n",
    "\n",
    "            prompt = generate_prompt(class_list[i])\n",
    "            response = client.chat.completions.create(\n",
    "                model=\"gpt-4o\",\n",
    "                messages=[\n",
    "                    {\"role\": \"system\", \"content\": \"You are a helpful assistant.\"},\n",
    "                    {\"role\": \"user\", \"content\": f\"{prompt}\"}\n",
    "                ]\n",
    "                )\n",
    "            response_text = response.choices[0].message.content\n",
    "            data = response_text.strip().strip('`').strip('json\\n').strip('/ graph').strip()\n",
    "        else:\n",
    "            json_objects.append(parsed_data)\n",
    "            requery_needed = False"
   ]
  },
  {
   "cell_type": "code",
   "execution_count": null,
   "metadata": {},
   "outputs": [],
   "source": [
    "keyed_json_objects = {cat: descr for cat, descr in zip(class_list, json_objects)}"
   ]
  },
  {
   "cell_type": "code",
   "execution_count": 15,
   "metadata": {},
   "outputs": [],
   "source": [
    "file_name = 'rationale_imagenet.json'"
   ]
  },
  {
   "cell_type": "code",
   "execution_count": 16,
   "metadata": {},
   "outputs": [],
   "source": [
    "with open(file_name, 'w') as file:\n",
    "    json.dump(keyed_json_objects, file, indent=2)"
   ]
  }
 ],
 "metadata": {
  "kernelspec": {
   "display_name": "base",
   "language": "python",
   "name": "base"
  },
  "language_info": {
   "codemirror_mode": {
    "name": "ipython",
    "version": 3
   },
   "file_extension": ".py",
   "mimetype": "text/x-python",
   "name": "python",
   "nbconvert_exporter": "python",
   "pygments_lexer": "ipython3",
   "version": "3.11.0"
  }
 },
 "nbformat": 4,
 "nbformat_minor": 2
}
